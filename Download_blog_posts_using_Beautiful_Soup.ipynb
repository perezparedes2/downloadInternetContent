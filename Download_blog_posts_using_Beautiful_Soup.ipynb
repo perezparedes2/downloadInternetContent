{
  "nbformat": 4,
  "nbformat_minor": 0,
  "metadata": {
    "colab": {
      "name": "Copia de Download blog posts using Beautiful Soup.ipynb",
      "provenance": []
    },
    "kernelspec": {
      "display_name": "Python 3",
      "name": "python3"
    }
  },
  "cells": [
    {
      "cell_type": "markdown",
      "metadata": {
        "id": "P_8s7WuXIPQe"
      },
      "source": [
        "**Download text from posts available in The Conversation.**\n",
        "Script by Pascual Pérez-Paredes (@perezparedes) and Nial Curry (@NiallRCurry)\n",
        ")"
      ]
    },
    {
      "cell_type": "code",
      "metadata": {
        "id": "o5C-2BnEoQt-"
      },
      "source": [
        "#import these libraries\n",
        "import lxml\n",
        "\n",
        "from bs4 import BeautifulSoup\n",
        "from requests import get"
      ],
      "execution_count": null,
      "outputs": []
    },
    {
      "cell_type": "code",
      "metadata": {
        "id": "wlMROJAwoa-7"
      },
      "source": [
        "#paste in here \"\" the URL address\n",
        "url = \"https://theconversation.com/economia-circular-una-oportunidad-para-la-recuperacion-sostenible-140948\"\n"
      ],
      "execution_count": null,
      "outputs": []
    },
    {
      "cell_type": "code",
      "metadata": {
        "colab": {
          "base_uri": "https://localhost:8080/",
          "height": 120
        },
        "id": "rpbbMtkMokWr",
        "outputId": "896e9fac-2fb5-4ba1-8c27-13c4b9e62fd6"
      },
      "source": [
        "#this will grab the text in the \"articleBody\" element\n",
        "#if you wish to download the text from a different website, please double check the corresponding div class, typically in the <article> tag or similar\n",
        "#click the icon after the text to copy it all to the clipboard\n",
        "page = get(url)\n",
        "soup = BeautifulSoup(page.content, 'lxml')\n",
        "soup.find(\"div\" , {\"class\": \"grid-ten large-grid-nine grid-last content-body content entry-content instapaper_body inline-promos\"}).get_text(strip=True)"
      ],
      "execution_count": null,
      "outputs": [
        {
          "output_type": "execute_result",
          "data": {
            "application/vnd.google.colaboratory.intrinsic+json": {
              "type": "string"
            },
            "text/plain": [
              "'La economía actual, una economía lineal, deusar y tirar, genera una cantidad de residuos asombrosa. Esto implica una pérdida de valor igualmente disparatada. En Europasolo el 12\\xa0%de los recursos materiales utilizados provienen del reciclaje y de la recuperación. El 88\\xa0% restante se pierde.Gobiernos yempresashan empezado a darse cuenta de que este sistema lineal aumenta su exposición a grandes riesgos, por la volatilidad de los precios de los recursos y las posibles interrupciones del suministro. Estos peligroshan quedado patentes con la crisis de COVID-19.Muestras de esta preocupación política son, por ejemplo, elPlan para la Economía Circular europeo, vigente desde 2015, y la recientemente aprobadaEstrategia Española de Economía Circular.Más allá del deterioro, a veces irreversible, del medioambiente, las consecuencias del modelo lineal son un desafío fundamental para la creación de riqueza global a largo plazo.Es momento de desbloquear la economía linealNos encontramosbloqueadosen un sistema económico que arrastra una poderosa inercia equivocada desde la Revolución Industrial. Entonces se sentaron las bases del modelo lineal, sin por supuesto prever suincompatibilidad con las actuales dinámicas ambientales y demográficas.Dentro de su gravedad, el actual frenazo en la economía mundial también puede leerse como una oportunidad paraarrancarla de nuevo con una orientación más sostenible. Arreglar una bicicleta en marcha es imposible, pero parece que estaremos en la cuneta durante algún tiempo.Debemos aprovechar esta oportunidad para dar un paso atrás y plantearnos soluciones alternativas a nuestros problemas y necesidades, paraecoinnovary rediseñar nuestro modelo equivocado de creación de valor económico, que está demostrando ser insostenible.No se trata de hacermenos malolo que ya hacemos mal, poniendo filtros en nuestros desagües y chimeneas, enterrando nuestros residuos o reciclándolos parcialmente en productos de menor valor. Se trata de hacer las cosas de un modo diferente, que permita compatibilizar la sostenibilidad del crecimiento socioeconómico con la del sistema natural: se trata de transitar con urgencia hacia unaeconomía circular.La teoría: principios de la economía circularEn pocas palabras,la economía circular se basa en tres principios muy simples:El desperdicio no existe.Los productos deben ser diseñados y optimizados para un continuo ciclo de desensamblado y reutilización al final de su vida útil.La cuidadosa gestión del flujo de materiales.De acuerdo con esta perspectiva, son de dos tipos: por una parte,nutrientes biológicos, diseñados para reincorporarse sin impacto ambiental negativo al ecosistema, contribuyendo de ese modo al crecimiento del capital natural. Por otra parte,nutrientes tecnológicos, diseñados para reincorporarse sin pérdida de valor al sistema industrial, contribuyendo al crecimiento del capital económico.La energía para alimentar este ciclo debe ser renovable.De nuevo para reducir la dependencia de recursos e incrementar la resiliencia del sistema natural y del sistema económico.Aplicación práctica: ejemplos inspiradoresCada uno de nosotros, como ciudadanos, podemos contribuir a la economía circular. Por ejemplo, contratando energía verde, comprando productos eficientes energéticamente, comprando alimentos de temporada y proximidad y, en general, reduciendo nuestro consumo y desperdicios.Sin embargo, y a pesar de que la fuerza de la demanda es poderosa, esta transición exige  compromisos e inversiones que corren a cargo de las empresas.Las empresas y los emprendedores pueden contribuir a la economía circularutilizando diferentes modelos de negocio.Encontramos algunos ejemplos inspiradores en firmas que proveen a la industria de recursos renovables, reciclables o biodegradables. Uno esBFT, una empresa canadiense que produce fibras textiles a partir de cultivos de lino y cáñamo. Los productos de BFT son compatibles con las tecnologías de la industria textil tradicional y tienen propiedades tan buenas como el algodón o las fibras sintéticas. Sin embargo, tienen un impacto ambiental mucho menor en términos de consumo de agua y no producen residuos insostenibles como los microplásticos.Cada vez hay más empresas que buscan valor no solo en los productos finales, sino también en las corrientes de materiales que se utilizan en sus sistemas productivos. Un ejemplo esProcter & Gamble, que aspira a operar todas sus fábricas con el objetivo de cero residuos.También hay empresas que contribuyen a la economía circular prolongando la vida útil de sus productos. A través de su negocio de reacondicionamiento, la tecnológicaDellrecupera viejos equipos y los revende cuando es posible.Igualmente contribuyen a la economía circular las empresas de plataformas de uso compartido. En lugar de desechar o infrautilizar productos que se encuentran inactivos, permiten que otras personas tengan coacceso o copropiedad. Como ejemplos se podrían mencionarAirbnboBlaBlaCar.Por último, también contribuyen las empresas que operan bajo el modelo de negocio de producto como servicio. Este no se centra en generar grandes volúmenes de producción, sino que se enfoca en las prestaciones y la capacidad de actualización que tienen sus productos. Desmaterializa así la entrega de valor para ofrecer siempre las últimas innovaciones. Encontramos otro ejemplo inspirador en la propuesta de “iluminación como servicio” dePhilips. El cliente paga por los lúmenes de los que disfruta, y no por el equipamiento. De su diseño, operación, mantenimiento y renovación se encarga la compañía holandesa.Una transición difícil pero urgenteEn conclusión, la transición desde el actual sistema económico lineal hacia una economía circular permitiría compatibilizar el desarrollo y bienestar económico de la creciente población mundial con la capacidad natural del planeta para soportarlo.Evidentemente, tal cambio representa un gran desafío a la inercia equivocada en la que se encuentra instalado nuestro sistema económico desde hace más de un siglo.Pero esta transición también representa una gran oportunidad para países y empresas. Se estima que podría generar un valor próximo a4,5 billones de dólares en 2030, al tiempo que abundantes oportunidades de empleo y una mayor innovación.Este proceso puede ser largo, lento, costoso y tal vez frustrante en el corto plazo. Quizás no muchos países y empresas puedan permitirse liderar esta transición. Lo que parece evidente es que pocos podrán mantenerse al margen de ella.'"
            ]
          },
          "metadata": {
            "tags": []
          },
          "execution_count": 10
        }
      ]
    },
    {
      "cell_type": "code",
      "metadata": {
        "id": "xD6EMUCSsLC8"
      },
      "source": [
        ""
      ],
      "execution_count": null,
      "outputs": []
    }
  ]
}